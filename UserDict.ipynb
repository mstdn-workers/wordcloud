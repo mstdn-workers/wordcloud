{
 "cells": [
  {
   "cell_type": "markdown",
   "metadata": {},
   "source": [
    "### ユーザー辞書にユーザー名を追加する等\n",
    "https://taku910.github.io/mecab/dic.html"
   ]
  },
  {
   "cell_type": "markdown",
   "metadata": {},
   "source": [
    "`表層形,左文脈ID,右文脈ID,コスト,品詞,品詞細分類1,品詞細分類2,品詞細分類3,活用形,活用型,原形,読み,発音`\n",
    "\n",
    "`工藤,1223,1223,6058,名詞,固有名詞,人名,名,*,*,くどう,クドウ,クドウ`"
   ]
  },
  {
   "cell_type": "code",
   "execution_count": 1,
   "metadata": {},
   "outputs": [
    {
     "name": "stdout",
     "output_type": "stream",
     "text": [
      "Overwriting username.csv\n"
     ]
    }
   ],
   "source": [
    "%%writefile username.csv\n",
    "くまのん,,,6058,名詞,固有名詞,人名,名,*,*,くまのん,クマノン,クマノン\n",
    "れてぃあ,,,6058,名詞,固有名詞,人名,名,*,*,れてぃあ,レティア,レティア\n",
    "にっく,,,6058,名詞,固有名詞,人名,名,*,*,にっく,ニック,ニック"
   ]
  },
  {
   "cell_type": "code",
   "execution_count": 2,
   "metadata": {},
   "outputs": [
    {
     "name": "stdout",
     "output_type": "stream",
     "text": [
      "reading username.csv ... 3\r\n",
      "emitting double-array:  33% |##############                             | \r",
      "emitting double-array:  66% |############################               | \r",
      "emitting double-array: 100% |###########################################| \r\n",
      "\r\n",
      "done!\r\n"
     ]
    }
   ],
   "source": [
    "!/usr/local/libexec/mecab/mecab-dict-index \\\n",
    "    -d/usr/local/lib/mecab/dic/mecab-ipadic-neologd/ \\\n",
    "    -u username.dic \\\n",
    "    -f utf-8 -t utf-8 \\\n",
    "    username.csv"
   ]
  },
  {
   "cell_type": "code",
   "execution_count": 3,
   "metadata": {
    "scrolled": true
   },
   "outputs": [
    {
     "name": "stdout",
     "output_type": "stream",
     "text": [
      "username.csv  username.dic\r\n"
     ]
    }
   ],
   "source": [
    "! ls username.*"
   ]
  }
 ],
 "metadata": {
  "kernelspec": {
   "display_name": "Python 3",
   "language": "python",
   "name": "python3"
  },
  "language_info": {
   "codemirror_mode": {
    "name": "ipython",
    "version": 3
   },
   "file_extension": ".py",
   "mimetype": "text/x-python",
   "name": "python",
   "nbconvert_exporter": "python",
   "pygments_lexer": "ipython3",
   "version": "3.6.1"
  }
 },
 "nbformat": 4,
 "nbformat_minor": 2
}

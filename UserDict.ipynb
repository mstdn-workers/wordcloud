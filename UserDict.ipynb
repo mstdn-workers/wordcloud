{
 "cells": [
  {
   "cell_type": "markdown",
   "metadata": {},
   "source": [
    "### ユーザー辞書にユーザー名を追加する等\n",
    "https://taku910.github.io/mecab/dic.html"
   ]
  },
  {
   "cell_type": "markdown",
   "metadata": {},
   "source": [
    "`表層形,左文脈ID,右文脈ID,コスト,品詞,品詞細分類1,品詞細分類2,品詞細分類3,活用形,活用型,原形,読み,発音`\n",
    "\n",
    "`工藤,1223,1223,6058,名詞,固有名詞,人名,名,*,*,くどう,クドウ,クドウ`"
   ]
  },
  {
   "cell_type": "code",
   "execution_count": null,
   "metadata": {},
   "outputs": [],
   "source": [
    "%%writefile username.csv\n",
    "くまのん,,,6058,名詞,固有名詞,人名,名,*,*,くまのん,クマノン,クマノン\n",
    "れてぃあ,,,6058,名詞,固有名詞,人名,名,*,*,れてぃあ,レティア,レティア\n",
    "にっく,,,6058,名詞,固有名詞,人名,名,*,*,にっく,ニック,ニック\n",
    "おーかみ,,,6058,名詞,固有名詞,人名,名,*,*,おーかみ,オーカミ,オーカミ\n",
    "たかりゃん,,,6058,名詞,固有名詞,人名,名,*,*,たかりゃん,タカリャン,タカリャン\n",
    "ヨツジ,,,6058,名詞,固有名詞,人名,名,*,*,よつじ,ヨツジ,ヨツジ\n",
    "うやわー,,,6058,名詞,固有名詞,人名,名,*,*,うやわー,ウヤワー,ウヤワー\n",
    "まおー,,,6058,名詞,固有名詞,人名,名,*,*,まおー,マオー,マオー\n",
    "エダ,,,6058,名詞,固有名詞,人名,名,*,*,エダ,エダ,エダ\n",
    "てぇい,,,6058,名詞,固有名詞,人名,名,*,*,てぇい,テェイ,テェイ\n",
    "てぃ,,,6058,名詞,固有名詞,人名,名,*,*,てぇい,ティ,ティ"
   ]
  },
  {
   "cell_type": "code",
   "execution_count": null,
   "metadata": {},
   "outputs": [],
   "source": [
    "!/usr/lib/mecab/mecab-dict-index \\\n",
    "    -d/usr/lib/mecab/dic/mecab-ipadic-neologd/ \\\n",
    "    -u username.dic \\\n",
    "    -f utf-8 -t utf-8 \\\n",
    "    username.csv"
   ]
  },
  {
   "cell_type": "code",
   "execution_count": null,
   "metadata": {
    "collapsed": true,
    "scrolled": true
   },
   "outputs": [],
   "source": [
    "! ls username.*"
   ]
  }
 ],
 "metadata": {
  "kernelspec": {
   "display_name": "Python 3",
   "language": "python",
   "name": "python3"
  },
  "language_info": {
   "codemirror_mode": {
    "name": "ipython",
    "version": 3
   },
   "file_extension": ".py",
   "mimetype": "text/x-python",
   "name": "python",
   "nbconvert_exporter": "python",
   "pygments_lexer": "ipython3",
   "version": "3.6.1"
  }
 },
 "nbformat": 4,
 "nbformat_minor": 2
}

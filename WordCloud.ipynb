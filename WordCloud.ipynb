{
 "cells": [
  {
   "cell_type": "markdown",
   "metadata": {},
   "source": [
    "# 社畜丼ワードクラウド"
   ]
  },
  {
   "cell_type": "markdown",
   "metadata": {},
   "source": [
    "http://qiita.com/kenmatsu4/items/9b6ac74f831443d29074"
   ]
  },
  {
   "cell_type": "code",
   "execution_count": null,
   "metadata": {
    "collapsed": true
   },
   "outputs": [],
   "source": [
    "import numpy as np\n",
    "import pandas as pd\n",
    "import matplotlib.pyplot as plt\n",
    "from matplotlib.ticker import FormatStrFormatter\n",
    "\n",
    "from wordcloud import WordCloud, ImageColorGenerator\n",
    "from PIL import Image\n",
    "import MeCab as mc"
   ]
  },
  {
   "cell_type": "code",
   "execution_count": null,
   "metadata": {
    "collapsed": true
   },
   "outputs": [],
   "source": [
    "def mecab_analysis(text):\n",
    "    mecab_flags = [\n",
    "        '-Ochasen',\n",
    "        '-d /usr/local/lib/mecab/dic/mecab-ipadic-neologd/',\n",
    "        '-u username.dic',\n",
    "    ]\n",
    "    t = mc.Tagger(' '.join(mecab_flags))\n",
    "    enc_text = text.strip() # MeCabに渡した文字列は必ず変数に入れておく https://shogo82148.github.io/blog/2012/12/15/mecab-python/\n",
    "    t.parse('') # UnicodeDecodeError対策 http://taka-say.hateblo.jp/entry/2015/06/24/183748 \n",
    "    node = t.parseToNode(enc_text)\n",
    "    output = []\n",
    "    while(node):\n",
    "        if node.surface != \"\":  # ヘッダとフッタを除外\n",
    "            word_type = node.feature.split(\",\")[0]\n",
    "            if word_type in [\"形容詞\", \"名詞\", \"副詞\"]:\n",
    "                output.append(node.surface)\n",
    "        node = node.next\n",
    "        if node is None:\n",
    "            break\n",
    "    return output\n",
    "\n",
    "def create_wordcloud(text, background_image='background'):\n",
    "\n",
    "    # 環境に合わせてフォントのパスを指定する。\n",
    "    #fpath = \"/System/Library/Fonts/HelveticaNeue-UltraLight.otf\"\n",
    "    #fpath = \"/Library/Fonts/ヒラギノ角ゴ Pro W3.otf\"\n",
    "    fpath = \"/usr/share/fonts/opentype/noto/NotoSansCJK-Medium.ttc\"\n",
    "\n",
    "    # ストップワードの設定\n",
    "    stop_words = [ u'てる', u'いる', u'なる', u'れる', u'する', u'ある', u'こと', u'これ', u'さん', u'して', \\\n",
    "             u'くれる', u'やる', u'くださる', u'そう', u'せる', u'した',  u'思う',  \\\n",
    "             u'それ', u'ここ', u'ちゃん', u'くん', u'', u'て',u'に',u'を',u'は',u'の', u'が', u'と', u'た', u'し', u'で', \\\n",
    "             u'ない', u'も', u'な', u'い', u'か', u'ので', u'よう', u'']\n",
    "\n",
    "    wordcloud = WordCloud(background_color=\"white\",font_path=fpath, width=900, height=500, \\\n",
    "                          stopwords=set(stop_words)).generate(text)\n",
    "\n",
    "    mer_coloring = np.array(Image.open(background_image))\n",
    "#    wordcloud = WordCloud(background_color=\"white\",font_path=fpath, width=900, height=500, \\\n",
    "#                          stopwords=set(stop_words)).generate(text)\n",
    "    wordcloud = WordCloud(background_color=\"white\",font_path=fpath, width=900, height=500, \\\n",
    "                          mask=mer_coloring, stopwords=set(stop_words)).generate(text)\n",
    "    image_colors = ImageColorGenerator(mer_coloring)\n",
    "### using custom colors https://amueller.github.io/word_cloud/auto_examples/a_new_hope.html\n",
    "#    import random\n",
    "#    def grey_color_func(word, font_size, position, orientation, random_state=None,\n",
    "#                        **kwargs):\n",
    "#        return \"hsl(0, 0%%, %d%%)\" % random.randint(60, 100)\n",
    "    \n",
    "    \n",
    "    plt.figure(figsize=(15,12))\n",
    "#    plt.imshow(wordcloud.recolor(color_func=grey_color_func, random_state=3),\n",
    "#           interpolation=\"bilinear\")\n",
    "#    plt.imshow(wordcloud)\n",
    "    plt.imshow(wordcloud.recolor(color_func=image_colors), interpolation=\"bilinear\")\n",
    "    plt.axis(\"off\")\n",
    "    plt.show()"
   ]
  },
  {
   "cell_type": "code",
   "execution_count": null,
   "metadata": {
    "collapsed": true
   },
   "outputs": [],
   "source": [
    "def get_current_toots():\n",
    "    return pd.read_csv(\n",
    "        \"toot_data.current.tsv\",\n",
    "        delimiter='\\t',\n",
    "        header=None,\n",
    "        names=['created_at', 'username', 'userid', 'toot']\n",
    "    )\n",
    "\n",
    "def toot_convert(toots):\n",
    "    import re\n",
    "    return toots.map(\n",
    "        lambda s: re.sub('<[^>]*>', '', s)\n",
    "    ).map(\n",
    "        lambda s: re.sub(r'https?://[^ ]+', \"\", s)\n",
    "    )"
   ]
  },
  {
   "cell_type": "code",
   "execution_count": null,
   "metadata": {},
   "outputs": [],
   "source": [
    "from utils import time_settings, time_clipping\n",
    "from IPython.display import display\n",
    "datepicker, time_range = time_settings()\n",
    "display(datepicker, time_range)"
   ]
  },
  {
   "cell_type": "code",
   "execution_count": null,
   "metadata": {
    "scrolled": false
   },
   "outputs": [],
   "source": [
    "df_ranged = time_clipping(get_current_toots(), datepicker.value, *time_range.value)\n",
    "# 全トゥートを結合して形態素解析に流し込んで単語に分割する\n",
    "wordlist = mecab_analysis(' '.join(toot_convert(df_ranged['toot']).tolist()))\n",
    "#返ってきたリストを結合してワードクラウドにする\n",
    "create_wordcloud(' '.join(wordlist))"
   ]
  }
 ],
 "metadata": {
  "kernelspec": {
   "display_name": "Python 3",
   "language": "python",
   "name": "python3"
  },
  "language_info": {
   "codemirror_mode": {
    "name": "ipython",
    "version": 3
   },
   "file_extension": ".py",
   "mimetype": "text/x-python",
   "name": "python",
   "nbconvert_exporter": "python",
   "pygments_lexer": "ipython3",
   "version": "3.6.1"
  }
 },
 "nbformat": 4,
 "nbformat_minor": 2
}

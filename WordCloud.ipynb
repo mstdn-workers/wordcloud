{
 "cells": [
  {
   "cell_type": "markdown",
   "metadata": {},
   "source": [
    "# 社畜丼ワードクラウド"
   ]
  },
  {
   "cell_type": "markdown",
   "metadata": {},
   "source": [
    "http://qiita.com/kenmatsu4/items/9b6ac74f831443d29074"
   ]
  },
  {
   "cell_type": "code",
   "execution_count": 1,
   "metadata": {
    "collapsed": true
   },
   "outputs": [],
   "source": [
    "import pandas as pd\n",
    "import matplotlib.pyplot as plt\n",
    "from matplotlib.ticker import FormatStrFormatter\n",
    "import seaborn as sns\n",
    "sns.set_style(\"whitegrid\", {'grid.linestyle': '--'})\n",
    "%matplotlib inline\n",
    "\n",
    "from wordcloud import WordCloud\n",
    "import MeCab as mc"
   ]
  },
  {
   "cell_type": "code",
   "execution_count": 2,
   "metadata": {
    "collapsed": true
   },
   "outputs": [],
   "source": [
    "def mecab_analysis(text):\n",
    "    t = mc.Tagger('-Ochasen -d /usr/local/lib/mecab/dic/mecab-ipadic-neologd/')\n",
    "    enc_text = text.strip() # MeCabに渡した文字列は必ず変数に入れておく https://shogo82148.github.io/blog/2012/12/15/mecab-python/\n",
    "    t.parse('') # UnicodeDecodeError対策 http://taka-say.hateblo.jp/entry/2015/06/24/183748 \n",
    "    node = t.parseToNode(enc_text) \n",
    "    output = []\n",
    "    while(node):\n",
    "        if node.surface != \"\":  # ヘッダとフッタを除外\n",
    "            word_type = node.feature.split(\",\")[0]\n",
    "            if word_type in [\"形容詞\", \"動詞\",\"名詞\", \"副詞\"]:\n",
    "                output.append(node.surface)\n",
    "        node = node.next\n",
    "        if node is None:\n",
    "            break\n",
    "    return output"
   ]
  },
  {
   "cell_type": "code",
   "execution_count": 3,
   "metadata": {
    "collapsed": true
   },
   "outputs": [],
   "source": [
    "def create_wordcloud(text):\n",
    "\n",
    "    # 環境に合わせてフォントのパスを指定する。\n",
    "    #fpath = \"/System/Library/Fonts/HelveticaNeue-UltraLight.otf\"\n",
    "    #fpath = \"/Library/Fonts/ヒラギノ角ゴ Pro W3.otf\"\n",
    "    fpath = \"/usr/share/fonts/opentype/noto/NotoSansCJK-Medium.ttc\"\n",
    "\n",
    "    # ストップワードの設定\n",
    "    stop_words = [ u'てる', u'いる', u'なる', u'れる', u'する', u'ある', u'こと', u'これ', u'さん', u'して', \\\n",
    "             u'くれる', u'やる', u'くださる', u'そう', u'せる', u'した',  u'思う',  \\\n",
    "             u'それ', u'ここ', u'ちゃん', u'くん', u'', u'て',u'に',u'を',u'は',u'の', u'が', u'と', u'た', u'し', u'で', \\\n",
    "             u'ない', u'も', u'な', u'い', u'か', u'ので', u'よう', u'']\n",
    "\n",
    "    wordcloud = WordCloud(background_color=\"white\",font_path=fpath, width=900, height=500, \\\n",
    "                          stopwords=set(stop_words)).generate(text)\n",
    "\n",
    "### using custom colors https://amueller.github.io/word_cloud/auto_examples/a_new_hope.html\n",
    "#    import random\n",
    "#    def grey_color_func(word, font_size, position, orientation, random_state=None,\n",
    "#                        **kwargs):\n",
    "#        return \"hsl(0, 0%%, %d%%)\" % random.randint(60, 100)\n",
    "    \n",
    "    \n",
    "    plt.figure(figsize=(15,12))\n",
    "#    plt.imshow(wordcloud.recolor(color_func=grey_color_func, random_state=3),\n",
    "#           interpolation=\"bilinear\")\n",
    "    plt.imshow(wordcloud)\n",
    "    plt.axis(\"off\")\n",
    "    plt.show()"
   ]
  },
  {
   "cell_type": "code",
   "execution_count": 4,
   "metadata": {
    "collapsed": true
   },
   "outputs": [],
   "source": [
    "col_id = 'inner_id'\n",
    "col_username = 'username'\n",
    "col_toot = 'toot'"
   ]
  },
  {
   "cell_type": "code",
   "execution_count": 5,
   "metadata": {
    "collapsed": true
   },
   "outputs": [],
   "source": [
    "df_raw = pd.read_csv(\"toot_data.current.tsv\",\n",
    "                     delimiter='\\t',\n",
    "                     header=None,\n",
    "                     names=['created_at', 'username', 'userid', 'toot']\n",
    "                    )\n",
    "import re\n",
    "df_raw['toot'] = df_raw['toot'].map(\n",
    "    lambda s: re.sub('<[^>]*>', '', s)\n",
    ")"
   ]
  },
  {
   "cell_type": "code",
   "execution_count": 6,
   "metadata": {
    "collapsed": true
   },
   "outputs": [],
   "source": [
    "df_time = df_raw.copy()\n",
    "df_time['created_at'] = pd.to_datetime(\n",
    "    df_time['created_at'].map(\n",
    "        lambda s: s[1:-1]\n",
    "    )).map(\n",
    "        lambda t: t.tz_localize('GMT').tz_convert('Asia/Tokyo')\n",
    "    )\n",
    "\n",
    "time_begin = '12:30 +9:00'\n",
    "time_end = '13:30 +9:00'\n",
    "df_ranged = df_time[\n",
    "    (df_time['created_at'] >= time_begin) &\n",
    "    (df_time['created_at'] < time_end)\n",
    "]\n",
    "\n",
    "url_filtered = df_raw[col_toot].map(lambda x: re.sub(r'https?://[^ ]+', \"\", x))\n",
    "# 全トゥートを結合\n",
    "all_toot = ' '.join(url_filtered.tolist())"
   ]
  },
  {
   "cell_type": "code",
   "execution_count": 7,
   "metadata": {},
   "outputs": [],
   "source": [
    "wordlist = mecab_analysis(all_toot[-1000000:])\n",
    "create_wordcloud(' '.join(wordlist))"
   ]
  }
 ],
 "metadata": {
  "kernelspec": {
   "display_name": "Python 3",
   "language": "python",
   "name": "python3"
  },
  "language_info": {
   "codemirror_mode": {
    "name": "ipython",
    "version": 3
   },
   "file_extension": ".py",
   "mimetype": "text/x-python",
   "name": "python",
   "nbconvert_exporter": "python",
   "pygments_lexer": "ipython3",
   "version": "3.6.1"
  }
 },
 "nbformat": 4,
 "nbformat_minor": 2
}

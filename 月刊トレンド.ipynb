{
 "cells": [
  {
   "cell_type": "markdown",
   "metadata": {},
   "source": [
    "※ 消費メモリでかいので月刊トレンドは絶対にVPSとかで実行しないこと。\n",
    "**1GB程度は平気で食ってくので**小規模なプランだと仮想マシンごと落ちる危険性がある"
   ]
  },
  {
   "cell_type": "code",
   "execution_count": null,
   "metadata": {},
   "outputs": [],
   "source": [
    "%run wordcloud_auto.py --db \"./timelines.sqlite3\" monthly --try-this-month"
   ]
  },
  {
   "cell_type": "code",
   "execution_count": null,
   "metadata": {},
   "outputs": [],
   "source": [
    "%run wordcloud_auto.py --db \"./timelines.sqlite3\" monthly"
   ]
  },
  {
   "cell_type": "code",
   "execution_count": null,
   "metadata": {},
   "outputs": [],
   "source": [
    "status_params = get_status_params_for_monthly(\n",
    "    today, time_range,\n",
    "    statuses,\n",
    "    enough,\n",
    "    detail_texts,\n",
    "    args.message,\n",
    "    wordcloud, wordcount)\n",
    "print(status_params['status'])"
   ]
  },
  {
   "cell_type": "code",
   "execution_count": null,
   "metadata": {},
   "outputs": [],
   "source": [
    "print('\\n'.join(str(s['created_at']) for s in statuses[:10]))\n",
    "print(\"...\")\n",
    "print('\\n'.join(str(s['created_at']) for s in statuses[-10:]))"
   ]
  },
  {
   "cell_type": "code",
   "execution_count": null,
   "metadata": {},
   "outputs": [],
   "source": [
    "from IPython import display\n",
    "display.Image('/tmp/wordcloud.png')"
   ]
  },
  {
   "cell_type": "markdown",
   "metadata": {},
   "source": [
    "#### もしファイルを書き換えて再実行するならば"
   ]
  },
  {
   "cell_type": "code",
   "execution_count": null,
   "metadata": {},
   "outputs": [],
   "source": [
    "from importlib import reload\n",
    "reload(words)"
   ]
  },
  {
   "cell_type": "markdown",
   "metadata": {},
   "source": [
    "### 投稿処理"
   ]
  },
  {
   "cell_type": "code",
   "execution_count": null,
   "metadata": {},
   "outputs": [],
   "source": [
    "timeline.post(**status_params)"
   ]
  },
  {
   "cell_type": "markdown",
   "metadata": {},
   "source": [
    "#### 今月を先月にする処理"
   ]
  },
  {
   "cell_type": "code",
   "execution_count": null,
   "metadata": {},
   "outputs": [],
   "source": [
    "prev_month = jst.localize(datetime(today.year, today.month, 1))\n",
    "next_1 = prev_month + timedelta(days=31)\n",
    "this_month = jst.localize(datetime(next_1.year, next_1.month, 1))\n",
    "time_range = prev_month, this_month"
   ]
  }
 ],
 "metadata": {
  "kernelspec": {
   "display_name": "Python 3",
   "language": "python",
   "name": "python3"
  },
  "language_info": {
   "codemirror_mode": {
    "name": "ipython",
    "version": 3
   },
   "file_extension": ".py",
   "mimetype": "text/x-python",
   "name": "python",
   "nbconvert_exporter": "python",
   "pygments_lexer": "ipython3",
   "version": "3.6.1"
  }
 },
 "nbformat": 4,
 "nbformat_minor": 2
}
